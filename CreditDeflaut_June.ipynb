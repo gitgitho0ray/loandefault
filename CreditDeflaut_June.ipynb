{
 "cells": [
  {
   "cell_type": "code",
   "execution_count": 988,
   "metadata": {},
   "outputs": [
    {
     "data": {
      "text/html": [
       "        <script type=\"text/javascript\">\n",
       "        window.PlotlyConfig = {MathJaxConfig: 'local'};\n",
       "        if (window.MathJax) {MathJax.Hub.Config({SVG: {font: \"STIX-Web\"}});}\n",
       "        if (typeof require !== 'undefined') {\n",
       "        require.undef(\"plotly\");\n",
       "        requirejs.config({\n",
       "            paths: {\n",
       "                'plotly': ['https://cdn.plot.ly/plotly-latest.min']\n",
       "            }\n",
       "        });\n",
       "        require(['plotly'], function(Plotly) {\n",
       "            window._Plotly = Plotly;\n",
       "        });\n",
       "        }\n",
       "        </script>\n",
       "        "
      ]
     },
     "metadata": {},
     "output_type": "display_data"
    }
   ],
   "source": [
    "import matplotlib.pyplot as plt\n",
    "%matplotlib inline\n",
    "import plotly.offline as py\n",
    "import plotly.graph_objs as go \n",
    "import scikitplot as skplt\n",
    "\n",
    "\n",
    "import seaborn as sns; sns.set()\n",
    "import matplotlib.pyplot as plt\n",
    "py.init_notebook_mode(connected=True)\n",
    "\n",
    "from sqlalchemy import create_engine\n",
    "import pymysql\n",
    "\n",
    "import numpy as np\n",
    "import pandas as pd\n",
    "import sklearn as sk\n",
    "\n",
    "from mlxtend.plotting import plot_decision_regions\n",
    "from mlxtend.plotting import category_scatter\n",
    "\n",
    "from sklearn.tree import DecisionTreeClassifier\n",
    "from sklearn.ensemble import RandomForestClassifier\n",
    "from sklearn.neighbors import KNeighborsClassifier\n",
    "from sklearn.linear_model import LogisticRegression\n",
    "from sklearn.model_selection import train_test_split\n",
    "from sklearn.metrics import classification_report\n",
    "from sklearn.metrics import confusion_matrix\n",
    "from sklearn.metrics import plot_confusion_matrix\n",
    "from sklearn.metrics import precision_score, recall_score, accuracy_score\n",
    "from sklearn.metrics import f1_score\n",
    "from sklearn.preprocessing import OneHotEncoder\n",
    "from sklearn.impute import KNNImputer\n",
    "from sklearn.impute import SimpleImputer\n",
    "from sklearn.preprocessing import MinMaxScaler\n",
    "from imblearn.over_sampling import RandomOverSampler\n",
    "from sklearn.model_selection import RandomizedSearchCV\n",
    "from sklearn.model_selection import KFold, StratifiedKFold\n",
    "from sklearn.pipeline import Pipeline\n",
    "from sklearn.compose import ColumnTransformer"
   ]
  },
  {
   "cell_type": "code",
   "execution_count": 1305,
   "metadata": {},
   "outputs": [],
   "source": [
    "uri_direct = 'mysql+pymysql://root:@localhost:3306/bank'\n",
    "engine_direct = create_engine(uri_direct)\n",
    "con = engine_direct.connect()\n",
    "df = pd.read_sql('''\n",
    "    SELECT * \n",
    "    FROM mldataset_2;\n",
    "''',con=con)\n"
   ]
  },
  {
   "cell_type": "code",
   "execution_count": 1306,
   "metadata": {},
   "outputs": [],
   "source": [
    "df['status']=df['status'].astype('int64')\n",
    "df['gds2']=df['loanpmt']/df['avgsal']\n",
    "df['gender']=pd.get_dummies(df['gender'],drop_first=True)\n",
    "df = df.drop(columns='GDS')"
   ]
  },
  {
   "cell_type": "code",
   "execution_count": 1307,
   "metadata": {},
   "outputs": [
    {
     "data": {
      "text/html": [
       "<div>\n",
       "<style scoped>\n",
       "    .dataframe tbody tr th:only-of-type {\n",
       "        vertical-align: middle;\n",
       "    }\n",
       "\n",
       "    .dataframe tbody tr th {\n",
       "        vertical-align: top;\n",
       "    }\n",
       "\n",
       "    .dataframe thead th {\n",
       "        text-align: right;\n",
       "    }\n",
       "</style>\n",
       "<table border=\"1\" class=\"dataframe\">\n",
       "  <thead>\n",
       "    <tr style=\"text-align: right;\">\n",
       "      <th></th>\n",
       "      <th>status</th>\n",
       "      <th>dur</th>\n",
       "      <th>loanpmt</th>\n",
       "      <th>avgbal</th>\n",
       "      <th>minbal</th>\n",
       "      <th>maxbal</th>\n",
       "      <th>dcovratio</th>\n",
       "      <th>num_cashwd</th>\n",
       "      <th>avg_cashwd</th>\n",
       "      <th>num_cashdep</th>\n",
       "      <th>...</th>\n",
       "      <th>acholders</th>\n",
       "      <th>yearswbank</th>\n",
       "      <th>gender</th>\n",
       "      <th>aplicant_age</th>\n",
       "      <th>agebracket</th>\n",
       "      <th>urbanratio</th>\n",
       "      <th>avgsal</th>\n",
       "      <th>avgunemprate</th>\n",
       "      <th>selfemprate</th>\n",
       "      <th>gds2</th>\n",
       "    </tr>\n",
       "  </thead>\n",
       "  <tbody>\n",
       "    <tr>\n",
       "      <th>0</th>\n",
       "      <td>0</td>\n",
       "      <td>12.0</td>\n",
       "      <td>6908.0</td>\n",
       "      <td>57141.8016</td>\n",
       "      <td>900</td>\n",
       "      <td>107681</td>\n",
       "      <td>8.271830</td>\n",
       "      <td>57</td>\n",
       "      <td>9511.9649</td>\n",
       "      <td>4</td>\n",
       "      <td>...</td>\n",
       "      <td>2</td>\n",
       "      <td>482</td>\n",
       "      <td>1</td>\n",
       "      <td>22</td>\n",
       "      <td>2</td>\n",
       "      <td>60.8</td>\n",
       "      <td>8208</td>\n",
       "      <td>2.075</td>\n",
       "      <td>0.155</td>\n",
       "      <td>0.841618</td>\n",
       "    </tr>\n",
       "    <tr>\n",
       "      <th>1</th>\n",
       "      <td>0</td>\n",
       "      <td>24.0</td>\n",
       "      <td>2154.0</td>\n",
       "      <td>58226.5196</td>\n",
       "      <td>600</td>\n",
       "      <td>124339</td>\n",
       "      <td>27.031810</td>\n",
       "      <td>53</td>\n",
       "      <td>12739.0189</td>\n",
       "      <td>31</td>\n",
       "      <td>...</td>\n",
       "      <td>1</td>\n",
       "      <td>396</td>\n",
       "      <td>0</td>\n",
       "      <td>26</td>\n",
       "      <td>3</td>\n",
       "      <td>100.0</td>\n",
       "      <td>10673</td>\n",
       "      <td>5.095</td>\n",
       "      <td>0.100</td>\n",
       "      <td>0.201818</td>\n",
       "    </tr>\n",
       "    <tr>\n",
       "      <th>2</th>\n",
       "      <td>0</td>\n",
       "      <td>12.0</td>\n",
       "      <td>4502.0</td>\n",
       "      <td>36480.2381</td>\n",
       "      <td>1000</td>\n",
       "      <td>81706</td>\n",
       "      <td>8.103118</td>\n",
       "      <td>66</td>\n",
       "      <td>8161.1061</td>\n",
       "      <td>1</td>\n",
       "      <td>...</td>\n",
       "      <td>1</td>\n",
       "      <td>675</td>\n",
       "      <td>1</td>\n",
       "      <td>28</td>\n",
       "      <td>3</td>\n",
       "      <td>53.8</td>\n",
       "      <td>8814</td>\n",
       "      <td>5.250</td>\n",
       "      <td>0.107</td>\n",
       "      <td>0.510778</td>\n",
       "    </tr>\n",
       "    <tr>\n",
       "      <th>3</th>\n",
       "      <td>0</td>\n",
       "      <td>60.0</td>\n",
       "      <td>501.0</td>\n",
       "      <td>37213.4194</td>\n",
       "      <td>500</td>\n",
       "      <td>69383</td>\n",
       "      <td>74.278282</td>\n",
       "      <td>65</td>\n",
       "      <td>4522.0769</td>\n",
       "      <td>24</td>\n",
       "      <td>...</td>\n",
       "      <td>1</td>\n",
       "      <td>651</td>\n",
       "      <td>1</td>\n",
       "      <td>45</td>\n",
       "      <td>5</td>\n",
       "      <td>36.9</td>\n",
       "      <td>8594</td>\n",
       "      <td>1.815</td>\n",
       "      <td>0.112</td>\n",
       "      <td>0.058296</td>\n",
       "    </tr>\n",
       "    <tr>\n",
       "      <th>4</th>\n",
       "      <td>0</td>\n",
       "      <td>48.0</td>\n",
       "      <td>2820.0</td>\n",
       "      <td>64881.4416</td>\n",
       "      <td>200</td>\n",
       "      <td>146480</td>\n",
       "      <td>23.007603</td>\n",
       "      <td>45</td>\n",
       "      <td>12188.3333</td>\n",
       "      <td>21</td>\n",
       "      <td>...</td>\n",
       "      <td>1</td>\n",
       "      <td>363</td>\n",
       "      <td>1</td>\n",
       "      <td>21</td>\n",
       "      <td>2</td>\n",
       "      <td>52.0</td>\n",
       "      <td>8187</td>\n",
       "      <td>5.140</td>\n",
       "      <td>0.094</td>\n",
       "      <td>0.344449</td>\n",
       "    </tr>\n",
       "    <tr>\n",
       "      <th>...</th>\n",
       "      <td>...</td>\n",
       "      <td>...</td>\n",
       "      <td>...</td>\n",
       "      <td>...</td>\n",
       "      <td>...</td>\n",
       "      <td>...</td>\n",
       "      <td>...</td>\n",
       "      <td>...</td>\n",
       "      <td>...</td>\n",
       "      <td>...</td>\n",
       "      <td>...</td>\n",
       "      <td>...</td>\n",
       "      <td>...</td>\n",
       "      <td>...</td>\n",
       "      <td>...</td>\n",
       "      <td>...</td>\n",
       "      <td>...</td>\n",
       "      <td>...</td>\n",
       "      <td>...</td>\n",
       "      <td>...</td>\n",
       "      <td>...</td>\n",
       "    </tr>\n",
       "    <tr>\n",
       "      <th>677</th>\n",
       "      <td>0</td>\n",
       "      <td>60.0</td>\n",
       "      <td>5291.0</td>\n",
       "      <td>64978.1655</td>\n",
       "      <td>700</td>\n",
       "      <td>135890</td>\n",
       "      <td>12.280886</td>\n",
       "      <td>67</td>\n",
       "      <td>13575.9851</td>\n",
       "      <td>34</td>\n",
       "      <td>...</td>\n",
       "      <td>1</td>\n",
       "      <td>499</td>\n",
       "      <td>1</td>\n",
       "      <td>23</td>\n",
       "      <td>2</td>\n",
       "      <td>52.0</td>\n",
       "      <td>8187</td>\n",
       "      <td>5.140</td>\n",
       "      <td>0.094</td>\n",
       "      <td>0.646268</td>\n",
       "    </tr>\n",
       "    <tr>\n",
       "      <th>678</th>\n",
       "      <td>0</td>\n",
       "      <td>24.0</td>\n",
       "      <td>1632.0</td>\n",
       "      <td>55438.8148</td>\n",
       "      <td>300</td>\n",
       "      <td>81496</td>\n",
       "      <td>33.969862</td>\n",
       "      <td>25</td>\n",
       "      <td>6487.6000</td>\n",
       "      <td>13</td>\n",
       "      <td>...</td>\n",
       "      <td>1</td>\n",
       "      <td>347</td>\n",
       "      <td>0</td>\n",
       "      <td>19</td>\n",
       "      <td>2</td>\n",
       "      <td>63.4</td>\n",
       "      <td>9920</td>\n",
       "      <td>2.565</td>\n",
       "      <td>0.130</td>\n",
       "      <td>0.164516</td>\n",
       "    </tr>\n",
       "    <tr>\n",
       "      <th>679</th>\n",
       "      <td>0</td>\n",
       "      <td>60.0</td>\n",
       "      <td>4674.0</td>\n",
       "      <td>38619.0849</td>\n",
       "      <td>1000</td>\n",
       "      <td>102466</td>\n",
       "      <td>8.262534</td>\n",
       "      <td>59</td>\n",
       "      <td>7045.8475</td>\n",
       "      <td>28</td>\n",
       "      <td>...</td>\n",
       "      <td>1</td>\n",
       "      <td>620</td>\n",
       "      <td>0</td>\n",
       "      <td>46</td>\n",
       "      <td>5</td>\n",
       "      <td>100.0</td>\n",
       "      <td>9897</td>\n",
       "      <td>1.780</td>\n",
       "      <td>0.140</td>\n",
       "      <td>0.472264</td>\n",
       "    </tr>\n",
       "    <tr>\n",
       "      <th>680</th>\n",
       "      <td>0</td>\n",
       "      <td>60.0</td>\n",
       "      <td>6998.0</td>\n",
       "      <td>59352.6667</td>\n",
       "      <td>200</td>\n",
       "      <td>104040</td>\n",
       "      <td>8.481376</td>\n",
       "      <td>6</td>\n",
       "      <td>32766.6667</td>\n",
       "      <td>2</td>\n",
       "      <td>...</td>\n",
       "      <td>2</td>\n",
       "      <td>156</td>\n",
       "      <td>0</td>\n",
       "      <td>50</td>\n",
       "      <td>5</td>\n",
       "      <td>100.0</td>\n",
       "      <td>12541</td>\n",
       "      <td>0.360</td>\n",
       "      <td>0.167</td>\n",
       "      <td>0.558010</td>\n",
       "    </tr>\n",
       "    <tr>\n",
       "      <th>681</th>\n",
       "      <td>0</td>\n",
       "      <td>24.0</td>\n",
       "      <td>5392.0</td>\n",
       "      <td>30870.0187</td>\n",
       "      <td>1000</td>\n",
       "      <td>56056</td>\n",
       "      <td>5.725152</td>\n",
       "      <td>38</td>\n",
       "      <td>4694.6053</td>\n",
       "      <td>16</td>\n",
       "      <td>...</td>\n",
       "      <td>1</td>\n",
       "      <td>440</td>\n",
       "      <td>0</td>\n",
       "      <td>34</td>\n",
       "      <td>3</td>\n",
       "      <td>63.1</td>\n",
       "      <td>8110</td>\n",
       "      <td>6.160</td>\n",
       "      <td>0.109</td>\n",
       "      <td>0.664858</td>\n",
       "    </tr>\n",
       "  </tbody>\n",
       "</table>\n",
       "<p>682 rows × 29 columns</p>\n",
       "</div>"
      ],
      "text/plain": [
       "     status   dur  loanpmt      avgbal  minbal  maxbal  dcovratio  num_cashwd  \\\n",
       "0         0  12.0   6908.0  57141.8016     900  107681   8.271830          57   \n",
       "1         0  24.0   2154.0  58226.5196     600  124339  27.031810          53   \n",
       "2         0  12.0   4502.0  36480.2381    1000   81706   8.103118          66   \n",
       "3         0  60.0    501.0  37213.4194     500   69383  74.278282          65   \n",
       "4         0  48.0   2820.0  64881.4416     200  146480  23.007603          45   \n",
       "..      ...   ...      ...         ...     ...     ...        ...         ...   \n",
       "677       0  60.0   5291.0  64978.1655     700  135890  12.280886          67   \n",
       "678       0  24.0   1632.0  55438.8148     300   81496  33.969862          25   \n",
       "679       0  60.0   4674.0  38619.0849    1000  102466   8.262534          59   \n",
       "680       0  60.0   6998.0  59352.6667     200  104040   8.481376           6   \n",
       "681       0  24.0   5392.0  30870.0187    1000   56056   5.725152          38   \n",
       "\n",
       "     avg_cashwd  num_cashdep  ...  acholders  yearswbank  gender  \\\n",
       "0     9511.9649            4  ...          2         482       1   \n",
       "1    12739.0189           31  ...          1         396       0   \n",
       "2     8161.1061            1  ...          1         675       1   \n",
       "3     4522.0769           24  ...          1         651       1   \n",
       "4    12188.3333           21  ...          1         363       1   \n",
       "..          ...          ...  ...        ...         ...     ...   \n",
       "677  13575.9851           34  ...          1         499       1   \n",
       "678   6487.6000           13  ...          1         347       0   \n",
       "679   7045.8475           28  ...          1         620       0   \n",
       "680  32766.6667            2  ...          2         156       0   \n",
       "681   4694.6053           16  ...          1         440       0   \n",
       "\n",
       "     aplicant_age  agebracket  urbanratio  avgsal  avgunemprate  selfemprate  \\\n",
       "0              22           2        60.8    8208         2.075        0.155   \n",
       "1              26           3       100.0   10673         5.095        0.100   \n",
       "2              28           3        53.8    8814         5.250        0.107   \n",
       "3              45           5        36.9    8594         1.815        0.112   \n",
       "4              21           2        52.0    8187         5.140        0.094   \n",
       "..            ...         ...         ...     ...           ...          ...   \n",
       "677            23           2        52.0    8187         5.140        0.094   \n",
       "678            19           2        63.4    9920         2.565        0.130   \n",
       "679            46           5       100.0    9897         1.780        0.140   \n",
       "680            50           5       100.0   12541         0.360        0.167   \n",
       "681            34           3        63.1    8110         6.160        0.109   \n",
       "\n",
       "         gds2  \n",
       "0    0.841618  \n",
       "1    0.201818  \n",
       "2    0.510778  \n",
       "3    0.058296  \n",
       "4    0.344449  \n",
       "..        ...  \n",
       "677  0.646268  \n",
       "678  0.164516  \n",
       "679  0.472264  \n",
       "680  0.558010  \n",
       "681  0.664858  \n",
       "\n",
       "[682 rows x 29 columns]"
      ]
     },
     "execution_count": 1307,
     "metadata": {},
     "output_type": "execute_result"
    }
   ],
   "source": [
    "df"
   ]
  },
  {
   "cell_type": "code",
   "execution_count": 1308,
   "metadata": {
    "scrolled": true
   },
   "outputs": [
    {
     "data": {
      "image/png": "[encoded data removed]",
      "text/plain": [
       "<Figure size 720x360 with 1 Axes>"
      ]
     },
     "metadata": {},
     "output_type": "display_data"
    }
   ],
   "source": [
    "#missing values visual\n",
    "fig, ax = plt.subplots(figsize=(10,5))\n",
    "sns.heatmap(df.isnull(),yticklabels=False,cbar=False, cmap='viridis', ax=ax); "
   ]
  },
  {
   "cell_type": "code",
   "execution_count": 1370,
   "metadata": {},
   "outputs": [],
   "source": [
    "def imputator(dfname):\n",
    "    imputer = KNNImputer() \n",
    "    imputer.fit(dfname)\n",
    "    X = imputer.transform(dfname)\n",
    "    df_imputed = pd.DataFrame(X, columns=dfname.columns, index=dfname.index)\n",
    "    return df_imputed\n",
    "\n",
    "def imputator_a(array):\n",
    "    imputer = KNNImputer() \n",
    "    imputer.fit(array)\n",
    "    array_imputed = imputer.transform(array)\n",
    "    return array_imputed\n",
    "\n",
    "def sampler(X_train, y_train):\n",
    "    sampler = RandomOverSampler(random_state=42)\n",
    "    X_train_sampled, y_train_sampled = sampler.fit_resample(X_train, y_train)\n",
    "    return X_train_sampled, y_train_sampled"
   ]
  },
  {
   "cell_type": "code",
   "execution_count": 1542,
   "metadata": {},
   "outputs": [],
   "source": [
    "X = df.drop(columns=['status','loanpmt','avgsal','aplicant_age'])\n",
    "y = df['status']\n",
    "X_train, X_test, y_train, y_test = train_test_split(X, y, test_size=0.2, random_state=42, stratify=y)\n",
    "X_train_s, y_train_s = sampler(imputator(X_train), y_train)\n",
    "X_test_imputed = imputator(X_test)\n",
    "\n",
    "numpipe = Pipeline([\n",
    "    ('scaler', MinMaxScaler())\n",
    "])\n",
    "numcols = X.drop(columns=['dur','agebracket']).columns.to_list()\n",
    "catcols = ['dur','agebracket']\n",
    "pipeline = ColumnTransformer([\n",
    "        ('num',numpipe, numcols),\n",
    "        ('cat',OneHotEncoder(), catcols)\n",
    "])\n",
    "X_train_prep = pipeline.fit_transform(X_train_s)\n",
    "X_test_prep = pipeline.fit_transform(X_test_imputed)"
   ]
  },
  {
   "cell_type": "code",
   "execution_count": 1506,
   "metadata": {},
   "outputs": [],
   "source": [
    "# numpipe = Pipeline([\n",
    "#     ('scaler', MinMaxScaler())\n",
    "# ])\n",
    "# numcols = X.drop(columns=['dur','agebracket']).columns.to_list()\n",
    "# catcols = ['dur','agebracket']\n",
    "# pipeline = ColumnTransformer([\n",
    "#         ('num',numpipe, numcols),\n",
    "#         ('cat',OneHotEncoder(), catcols)\n",
    "# ])\n",
    "# X_train_prep = pipeline.fit_transform(X_train_s)\n",
    "# X_test_prep = pipeline.fit_transform(X_test_imputed)"
   ]
  },
  {
   "cell_type": "code",
   "execution_count": 1543,
   "metadata": {},
   "outputs": [
    {
     "data": {
      "text/plain": [
       "array([1., 1., 1., 1., 1.])"
      ]
     },
     "execution_count": 1543,
     "metadata": {},
     "output_type": "execute_result"
    }
   ],
   "source": [
    "from sklearn.model_selection import cross_val_score\n",
    "scores = cross_val_score(GB,X_train_prep,y_train_s, cv=5,scoring='recall')\n",
    "scores"
   ]
  },
  {
   "cell_type": "markdown",
   "metadata": {},
   "source": [
    "# Model Selection"
   ]
  },
  {
   "cell_type": "code",
   "execution_count": 1544,
   "metadata": {},
   "outputs": [],
   "source": [
    "RF=RandomForestClassifier()\n",
    "DT=DecisionTreeClassifier()\n",
    "LR=LogisticRegression()\n",
    "GB = GradientBoostingClassifier()\n",
    "models_dict = {\n",
    "            'LogisticRegression':LR,\n",
    "            'DecisionTree':DT,\n",
    "            'RandomForest':RF,\n",
    "            'GradientBoosting':GB\n",
    "}"
   ]
  },
  {
   "cell_type": "code",
   "execution_count": 1545,
   "metadata": {
    "scrolled": false
   },
   "outputs": [
    {
     "name": "stdout",
     "output_type": "stream",
     "text": [
      "['LogisticRegression', 0.7883211678832117]\n",
      "['DecisionTree', 0.7956204379562044]\n",
      "['RandomForest', 0.927007299270073]\n",
      "['GradientBoosting', 0.8613138686131386]\n"
     ]
    },
    {
     "data": {
      "text/plain": [
       "[None, None, None, None]"
      ]
     },
     "execution_count": 1545,
     "metadata": {},
     "output_type": "execute_result"
    }
   ],
   "source": [
    "m_scores=[]\n",
    "clf_reports={}\n",
    "for m in models_dict.keys():\n",
    "    model = models_dict[m]\n",
    "    model.fit(X_train_prep,y_train_s)\n",
    "    y_pred= model.predict(X_test_prep)\n",
    "    m_scores.append([m,accuracy_score(y_test, y_pred)])\n",
    "    clf_reports[m]=classification_report(y_test,y_pred)\n",
    "[print(i) for i in m_scores]"
   ]
  },
  {
   "cell_type": "code",
   "execution_count": 1546,
   "metadata": {
    "scrolled": true
   },
   "outputs": [
    {
     "name": "stdout",
     "output_type": "stream",
     "text": [
      "LogisticRegression \n",
      "               precision    recall  f1-score   support\n",
      "\n",
      "           0       0.98      0.78      0.87       122\n",
      "           1       0.33      0.87      0.47        15\n",
      "\n",
      "    accuracy                           0.79       137\n",
      "   macro avg       0.65      0.82      0.67       137\n",
      "weighted avg       0.91      0.79      0.82       137\n",
      "\n",
      "DecisionTree \n",
      "               precision    recall  f1-score   support\n",
      "\n",
      "           0       0.91      0.86      0.88       122\n",
      "           1       0.19      0.27      0.22        15\n",
      "\n",
      "    accuracy                           0.80       137\n",
      "   macro avg       0.55      0.56      0.55       137\n",
      "weighted avg       0.83      0.80      0.81       137\n",
      "\n",
      "RandomForest \n",
      "               precision    recall  f1-score   support\n",
      "\n",
      "           0       0.95      0.97      0.96       122\n",
      "           1       0.69      0.60      0.64        15\n",
      "\n",
      "    accuracy                           0.93       137\n",
      "   macro avg       0.82      0.78      0.80       137\n",
      "weighted avg       0.92      0.93      0.92       137\n",
      "\n",
      "GradientBoosting \n",
      "               precision    recall  f1-score   support\n",
      "\n",
      "           0       0.96      0.88      0.92       122\n",
      "           1       0.42      0.73      0.54        15\n",
      "\n",
      "    accuracy                           0.86       137\n",
      "   macro avg       0.69      0.81      0.73       137\n",
      "weighted avg       0.90      0.86      0.88       137\n",
      "\n"
     ]
    }
   ],
   "source": [
    "for m in models_dict.keys():\n",
    "    print(m,'\\n',clf_reports[m])"
   ]
  },
  {
   "cell_type": "markdown",
   "metadata": {},
   "source": [
    "# KFold"
   ]
  },
  {
   "cell_type": "code",
   "execution_count": 1485,
   "metadata": {},
   "outputs": [],
   "source": [
    "from sklearn.model_selection import StratifiedKFold\n",
    "from sklearn.model_selection import KFold\n",
    "from sklearn.base import clone\n",
    "from sklearn.ensemble import GradientBoostingClassifier"
   ]
  },
  {
   "cell_type": "code",
   "execution_count": 1540,
   "metadata": {},
   "outputs": [],
   "source": [
    "X = df.drop(columns=['status','avgsal','loanpmt','aplicant_age'])\n",
    "y = df['status']\n",
    "X,y = (imputator(X),y)\n",
    "X_prep = pipeline.fit_transform(X)"
   ]
  },
  {
   "cell_type": "code",
   "execution_count": 1541,
   "metadata": {},
   "outputs": [
    {
     "name": "stdout",
     "output_type": "stream",
     "text": [
      "0.6191666666666666\n"
     ]
    }
   ],
   "source": [
    "\n",
    "model = models_dict['GradientBoosting']\n",
    "skfolds = StratifiedKFold(n_splits=5)\n",
    "scores=[]\n",
    "\n",
    "for train_index, test_index in skfolds.split(X_prep, y):\n",
    "\n",
    "    clone_clf = clone(model)\n",
    "\n",
    "    X_train_folds = X.iloc[train_index]\n",
    "    y_train_folds = y[train_index]\n",
    "\n",
    "    X_test_fold = X.iloc[test_index]\n",
    "    y_test_fold = y[test_index]\n",
    "\n",
    "\n",
    "    X_train_folds_s, y_train_folds_s = sampler(X_train_folds,y_train_folds)\n",
    "\n",
    "\n",
    "    clone_clf.fit(X_train_folds_s,y_train_folds_s)\n",
    "    y_pred = clone_clf.predict(X_test_fold)\n",
    "    score = recall_score(y_test_fold, y_pred)\n",
    "    scores.append(score)\n",
    "print(sum(scores)/len(scores))"
   ]
  },
  {
   "cell_type": "code",
   "execution_count": 1536,
   "metadata": {},
   "outputs": [],
   "source": [
    "X = df.drop(columns=['status','avgsal','loanpmt','aplicant_age'])\n",
    "y = df['status']\n",
    "X,y = (imputator(X),y)\n",
    "X_prep = pipeline.fit_transform(X)"
   ]
  },
  {
   "cell_type": "code",
   "execution_count": 1533,
   "metadata": {},
   "outputs": [
    {
     "name": "stdout",
     "output_type": "stream",
     "text": [
      "0.6745454545454546\n"
     ]
    }
   ],
   "source": [
    "kf = KFold(n_splits=5, shuffle=True)\n",
    "scores=[]\n",
    "clf_model = models_dict['GradientBoosting']\n",
    "for train_index, test_index in kf.split(X_prep):\n",
    "    clone_clf = clone(clf_model)\n",
    "\n",
    "    X_train, X_test = X.iloc[train_index], X.iloc[test_index]\n",
    "    y_train, y_test = y[train_index], y[test_index]\n",
    "\n",
    "    X_train_s, y_train_s = sampler(X_train, y_train)\n",
    "\n",
    "    clone_clf.fit(X_train_s, y_train_s)\n",
    "    y_pred = clone_clf.predict(X_test)\n",
    "\n",
    "    score = recall_score(y_test, y_pred)\n",
    "    scores.append(score)\n",
    "\n",
    "print(sum(scores)/len(scores))\n",
    "\n",
    "#     print(m,'\\n',k_reports[m])\n",
    "#     print(m,sum(scores)/len(scores))"
   ]
  },
  {
   "cell_type": "code",
   "execution_count": 1537,
   "metadata": {},
   "outputs": [
    {
     "name": "stdout",
     "output_type": "stream",
     "text": [
      "0.48459383753501395\n"
     ]
    }
   ],
   "source": [
    "kf = KFold(n_splits=5, shuffle=True)\n",
    "scores=[]\n",
    "clf_model = models_dict['RandomForest']\n",
    "for train_index, test_index in kf.split(X_prep):\n",
    "    clone_clf = clone(clf_model)\n",
    "\n",
    "    X_train, X_test = X.iloc[train_index], X.iloc[test_index]\n",
    "    y_train, y_test = y[train_index], y[test_index]\n",
    "\n",
    "    X_train_s, y_train_s = sampler(X_train, y_train)\n",
    "\n",
    "    clone_clf.fit(X_train_s, y_train_s)\n",
    "    y_pred = clone_clf.predict(X_test)\n",
    "\n",
    "    score = recall_score(y_test, y_pred)\n",
    "    scores.append(score)\n",
    "\n",
    "print(sum(scores)/len(scores))"
   ]
  },
  {
   "cell_type": "code",
   "execution_count": 1538,
   "metadata": {},
   "outputs": [
    {
     "name": "stderr",
     "output_type": "stream",
     "text": [
      "/opt/anaconda3/lib/python3.7/site-packages/sklearn/linear_model/_logistic.py:940: ConvergenceWarning:\n",
      "\n",
      "lbfgs failed to converge (status=1):\n",
      "STOP: TOTAL NO. of ITERATIONS REACHED LIMIT.\n",
      "\n",
      "Increase the number of iterations (max_iter) or scale the data as shown in:\n",
      "    https://scikit-learn.org/stable/modules/preprocessing.html\n",
      "Please also refer to the documentation for alternative solver options:\n",
      "    https://scikit-learn.org/stable/modules/linear_model.html#logistic-regression\n",
      "\n",
      "/opt/anaconda3/lib/python3.7/site-packages/sklearn/linear_model/_logistic.py:940: ConvergenceWarning:\n",
      "\n",
      "lbfgs failed to converge (status=1):\n",
      "STOP: TOTAL NO. of ITERATIONS REACHED LIMIT.\n",
      "\n",
      "Increase the number of iterations (max_iter) or scale the data as shown in:\n",
      "    https://scikit-learn.org/stable/modules/preprocessing.html\n",
      "Please also refer to the documentation for alternative solver options:\n",
      "    https://scikit-learn.org/stable/modules/linear_model.html#logistic-regression\n",
      "\n",
      "/opt/anaconda3/lib/python3.7/site-packages/sklearn/linear_model/_logistic.py:940: ConvergenceWarning:\n",
      "\n",
      "lbfgs failed to converge (status=1):\n",
      "STOP: TOTAL NO. of ITERATIONS REACHED LIMIT.\n",
      "\n",
      "Increase the number of iterations (max_iter) or scale the data as shown in:\n",
      "    https://scikit-learn.org/stable/modules/preprocessing.html\n",
      "Please also refer to the documentation for alternative solver options:\n",
      "    https://scikit-learn.org/stable/modules/linear_model.html#logistic-regression\n",
      "\n",
      "/opt/anaconda3/lib/python3.7/site-packages/sklearn/linear_model/_logistic.py:940: ConvergenceWarning:\n",
      "\n",
      "lbfgs failed to converge (status=1):\n",
      "STOP: TOTAL NO. of ITERATIONS REACHED LIMIT.\n",
      "\n",
      "Increase the number of iterations (max_iter) or scale the data as shown in:\n",
      "    https://scikit-learn.org/stable/modules/preprocessing.html\n",
      "Please also refer to the documentation for alternative solver options:\n",
      "    https://scikit-learn.org/stable/modules/linear_model.html#logistic-regression\n",
      "\n",
      "/opt/anaconda3/lib/python3.7/site-packages/sklearn/linear_model/_logistic.py:940: ConvergenceWarning:\n",
      "\n",
      "lbfgs failed to converge (status=1):\n",
      "STOP: TOTAL NO. of ITERATIONS REACHED LIMIT.\n",
      "\n",
      "Increase the number of iterations (max_iter) or scale the data as shown in:\n",
      "    https://scikit-learn.org/stable/modules/preprocessing.html\n",
      "Please also refer to the documentation for alternative solver options:\n",
      "    https://scikit-learn.org/stable/modules/linear_model.html#logistic-regression\n",
      "\n"
     ]
    }
   ],
   "source": [
    "kf = KFold(n_splits=5, shuffle=True)\n",
    "k_reports={}\n",
    "scores=[]\n",
    "for m in models_dict.keys(): \n",
    "    k_model = models_dict[m]\n",
    "    for train_index, test_index in kf.split(X_prep):\n",
    "        clone_clf = clone(k_model)\n",
    "        \n",
    "        X_train, X_test = X.iloc[train_index], X.iloc[test_index]\n",
    "        y_train, y_test = y[train_index], y[test_index]\n",
    "\n",
    "        X_train_s, y_train_s = sampler(X_train, y_train)\n",
    "\n",
    "        clone_clf.fit(X_train_s, y_train_s)\n",
    "        y_pred = clone_clf.predict(X_test)\n",
    "\n",
    "        score = recall_score(y_test, y_pred)\n",
    "        scores.append(score)\n",
    "        \n",
    "    k_reports[m]=sum(scores)/len(scores)\n",
    "\n",
    "#     print(m,'\\n',k_reports[m])\n",
    "#     print(m,sum(scores)/len(scores))"
   ]
  },
  {
   "cell_type": "code",
   "execution_count": 1539,
   "metadata": {},
   "outputs": [
    {
     "data": {
      "text/plain": [
       "{'LogisticRegression': 0.5698561621444916,\n",
       " 'DecisionTree': 0.5463422224863872,\n",
       " 'RandomForest': 0.5308093449054547,\n",
       " 'GradientBoosting': 0.55702709186388}"
      ]
     },
     "execution_count": 1539,
     "metadata": {},
     "output_type": "execute_result"
    }
   ],
   "source": [
    "k_reports"
   ]
  },
  {
   "cell_type": "code",
   "execution_count": 880,
   "metadata": {},
   "outputs": [],
   "source": [
    "from mlxtend.plotting import plot_decision_regions\n",
    "from mlxtend.plotting import category_scatter"
   ]
  },
  {
   "cell_type": "code",
   "execution_count": 1048,
   "metadata": {
    "collapsed": true
   },
   "outputs": [
    {
     "name": "stdout",
     "output_type": "stream",
     "text": [
      "(0, 'avgbal')\n",
      "(1, 'minbal')\n",
      "(2, 'maxbal')\n",
      "(3, 'dcovratio')\n",
      "(4, 'num_cashwd')\n",
      "(5, 'avg_cashwd')\n",
      "(6, 'num_cashdep')\n",
      "(7, 'avg_cashdep')\n",
      "(8, 'num_trin')\n",
      "(9, 'avg_trin')\n",
      "(10, 'num_trout')\n",
      "(11, 'avg_trout')\n",
      "(12, 'sact_int_count')\n",
      "(13, 'negbalcount')\n",
      "(14, 'negbalflag')\n",
      "(15, 'ccflag')\n",
      "(16, 'acholders')\n",
      "(17, 'yearswbank')\n",
      "(18, 'gender')\n",
      "(19, 'urbanratio')\n",
      "(20, 'avgunemprate')\n",
      "(21, 'selfemprate')\n",
      "(22, 'gds2')\n",
      "(23, 'dur_12.0')\n",
      "(24, 'dur_24.0')\n",
      "(25, 'dur_36.0')\n",
      "(26, 'dur_48.0')\n",
      "(27, 'dur_60.0')\n",
      "(28, 'agebracket_1.0')\n",
      "(29, 'agebracket_2.0')\n",
      "(30, 'agebracket_3.0')\n",
      "(31, 'agebracket_4.0')\n",
      "(32, 'agebracket_5.0')\n",
      "(33, 'agebracket_6.0')\n"
     ]
    }
   ],
   "source": [
    "for i in enumerate(list((pipedf.columns))):\n",
    "    print(i)"
   ]
  },
  {
   "cell_type": "code",
   "execution_count": 1055,
   "metadata": {
    "scrolled": false
   },
   "outputs": [
    {
     "ename": "NameError",
     "evalue": "name 'X_test_s' is not defined",
     "output_type": "error",
     "traceback": [
      "\u001b[0;31m---------------------------------------------------------------------------\u001b[0m",
      "\u001b[0;31mNameError\u001b[0m                                 Traceback (most recent call last)",
      "\u001b[0;32m<ipython-input-1055-11e1a5d4fd03>\u001b[0m in \u001b[0;36m<module>\u001b[0;34m\u001b[0m\n\u001b[0;32m----> 1\u001b[0;31m \u001b[0mX_test_s\u001b[0m\u001b[0;34m[\u001b[0m\u001b[0;34m[\u001b[0m\u001b[0;34m'gds2'\u001b[0m\u001b[0;34m,\u001b[0m\u001b[0;34m'dcovratio'\u001b[0m\u001b[0;34m]\u001b[0m\u001b[0;34m]\u001b[0m\u001b[0;34m\u001b[0m\u001b[0;34m\u001b[0m\u001b[0m\n\u001b[0m",
      "\u001b[0;31mNameError\u001b[0m: name 'X_test_s' is not defined"
     ]
    }
   ],
   "source": [
    "X_test_s[['gds2','dcovratio']]"
   ]
  },
  {
   "cell_type": "code",
   "execution_count": 1052,
   "metadata": {},
   "outputs": [
    {
     "data": {
      "text/plain": [
       "array([[ 0.84161793,  8.27182999],\n",
       "       [ 0.20181767, 27.0318104 ],\n",
       "       [ 0.51077831,  8.10311819],\n",
       "       ...,\n",
       "       [ 0.53321107,  7.3998684 ],\n",
       "       [ 0.64181485,  3.2747919 ],\n",
       "       [ 0.44294535,  8.13955735]])"
      ]
     },
     "execution_count": 1052,
     "metadata": {},
     "output_type": "execute_result"
    }
   ],
   "source": [
    "X[['gds2','dcovratio']].to_numpy()"
   ]
  },
  {
   "cell_type": "code",
   "execution_count": 1500,
   "metadata": {
    "scrolled": false
   },
   "outputs": [
    {
     "name": "stdout",
     "output_type": "stream",
     "text": [
      "              precision    recall  f1-score   support\n",
      "\n",
      "           0       0.96      0.97      0.96       120\n",
      "           1       0.73      0.69      0.71        16\n",
      "\n",
      "    accuracy                           0.93       136\n",
      "   macro avg       0.85      0.83      0.84       136\n",
      "weighted avg       0.93      0.93      0.93       136\n",
      "\n"
     ]
    }
   ],
   "source": [
    "print(classification_report(y_test,y_pred))"
   ]
  },
  {
   "cell_type": "code",
   "execution_count": 1501,
   "metadata": {},
   "outputs": [
    {
     "data": {
      "image/png": "[encoded data removed]",
      "text/plain": [
       "<Figure size 432x288 with 2 Axes>"
      ]
     },
     "metadata": {},
     "output_type": "display_data"
    }
   ],
   "source": [
    "from sklearn.metrics import confusion_matrix\n",
    "cm = confusion_matrix(y_test, y_pred)\n",
    "\n",
    "ax = plt.subplot()\n",
    "sns.set(font_scale=1.5) # Adjust to fit\n",
    "sns.heatmap(cm, annot=True, ax=ax, cmap=\"Blues\", fmt=\"g\");  \n",
    "\n",
    "# Labels, title and ticks\n",
    "label_font = {'size':'15'}  # Adjust to fit\n",
    "ax.set_xlabel('Predicted labels', fontdict=label_font);\n",
    "ax.set_ylabel('Observed labels', fontdict=label_font);\n",
    "\n",
    "title_font = {'size':'15'}  # Adjust to fit\n",
    "ax.set_title('Confusion Matrix', fontdict=title_font);\n",
    "\n",
    "ax.tick_params(axis='both', which='major', labelsize=15)  # Adjust to fit\n",
    "ax.xaxis.set_ticklabels(['0', '1']);\n",
    "ax.yaxis.set_ticklabels(['0', '1']);\n",
    "plt.show()\n"
   ]
  },
  {
   "cell_type": "code",
   "execution_count": 1516,
   "metadata": {},
   "outputs": [],
   "source": [
    "def feature_importance():\n",
    "    sns.set(font_scale=1.0)\n",
    "    colnames = numcols+list(pipeline.transformers_[1][1].get_feature_names(catcols))\n",
    "    pipedf=pd.DataFrame(data=X_train_prep, columns=colnames)\n",
    "    plot = pd.Series(model.feature_importances_,index=pipedf.columns).sort_values().plot(kind='bar')\n",
    "    return plot"
   ]
  },
  {
   "cell_type": "code",
   "execution_count": 1517,
   "metadata": {
    "scrolled": false
   },
   "outputs": [
    {
     "data": {
      "text/plain": [
       "<matplotlib.axes._subplots.AxesSubplot at 0x1a4c75f810>"
      ]
     },
     "execution_count": 1517,
     "metadata": {},
     "output_type": "execute_result"
    },
    {
     "data": {
      "image/png": "[encoded data removed]",
      "text/plain": [
       "<Figure size 432x288 with 1 Axes>"
      ]
     },
     "metadata": {},
     "output_type": "display_data"
    }
   ],
   "source": [
    "feature_importance()"
   ]
  },
  {
   "cell_type": "markdown",
   "metadata": {},
   "source": [
    "# GRIDSEARCH"
   ]
  },
  {
   "cell_type": "code",
   "execution_count": 1606,
   "metadata": {},
   "outputs": [],
   "source": [
    "X = df.drop(columns=['status','loanpmt','avgsal','aplicant_age','gender'])\n",
    "y = df['status']\n",
    "X_train, X_test, y_train, y_test = train_test_split(X, y, test_size=0.2, random_state=42, stratify=y)\n",
    "X_train_s, y_train_s = sampler(imputator(X_train), y_train)\n",
    "X_test_imputed = imputator(X_test)\n",
    "\n",
    "numpipe = Pipeline([\n",
    "    ('scaler', MinMaxScaler())\n",
    "])\n",
    "numcols = X.drop(columns=['dur','agebracket']).columns.to_list()\n",
    "catcols = ['dur','agebracket']\n",
    "pipeline = ColumnTransformer([\n",
    "        ('num',numpipe, numcols),\n",
    "        ('cat',OneHotEncoder(), catcols)\n",
    "])\n",
    "X_train_prep = pipeline.fit_transform(X_train_s)\n",
    "X_test_prep = pipeline.fit_transform(X_test_imputed)"
   ]
  },
  {
   "cell_type": "code",
   "execution_count": 1616,
   "metadata": {},
   "outputs": [
    {
     "name": "stdout",
     "output_type": "stream",
     "text": [
      "Fitting 5 folds for each of 100 candidates, totalling 500 fits\n"
     ]
    },
    {
     "name": "stderr",
     "output_type": "stream",
     "text": [
      "[Parallel(n_jobs=-1)]: Using backend LokyBackend with 8 concurrent workers.\n",
      "[Parallel(n_jobs=-1)]: Done  16 tasks      | elapsed:    3.9s\n",
      "[Parallel(n_jobs=-1)]: Done 112 tasks      | elapsed:   16.9s\n",
      "[Parallel(n_jobs=-1)]: Done 272 tasks      | elapsed:   33.9s\n",
      "[Parallel(n_jobs=-1)]: Done 500 out of 500 | elapsed:   58.7s finished\n"
     ]
    },
    {
     "name": "stdout",
     "output_type": "stream",
     "text": [
      "              precision    recall  f1-score   support\n",
      "\n",
      "           0       0.95      0.99      0.97       122\n",
      "           1       0.90      0.60      0.72        15\n",
      "\n",
      "    accuracy                           0.95       137\n",
      "   macro avg       0.93      0.80      0.85       137\n",
      "weighted avg       0.95      0.95      0.94       137\n",
      "\n"
     ]
    }
   ],
   "source": [
    "parameters = {'bootstrap':[True,False],'max_depth':list(range(2,20)),'max_features':['auto'],   \n",
    "    'min_samples_leaf':[1,2,3,4],\n",
    "    'min_samples_split':[2,3,4],\n",
    "    'n_estimators':[50,100,150,200,400,500],\n",
    "    'criterion': ['entropy','gini']\n",
    "}\n",
    "\n",
    "RF = RandomForestClassifier(class_weight='balanced')\n",
    "RF = RandomizedSearchCV(estimator = RF,\n",
    "                        param_distributions = parameters,\n",
    "                        n_iter=100,\n",
    "                        cv=5,\n",
    "                        verbose=3,\n",
    "                        random_state=42,\n",
    "                        n_jobs=-1)\n",
    "\n",
    "RF.fit(X_train_prep, y_train_s)\n",
    "\n",
    "y_pred= RF.predict(X_test_prep)\n",
    "print(classification_report(y_test,y_pred))\n"
   ]
  },
  {
   "cell_type": "code",
   "execution_count": 1612,
   "metadata": {},
   "outputs": [
    {
     "name": "stdout",
     "output_type": "stream",
     "text": [
      "Fitting 5 folds for each of 2592 candidates, totalling 12960 fits\n"
     ]
    },
    {
     "name": "stderr",
     "output_type": "stream",
     "text": [
      "[Parallel(n_jobs=-1)]: Using backend LokyBackend with 8 concurrent workers.\n",
      "[Parallel(n_jobs=-1)]: Done   2 tasks      | elapsed:    2.5s\n",
      "[Parallel(n_jobs=-1)]: Done   9 tasks      | elapsed:    2.9s\n",
      "[Parallel(n_jobs=-1)]: Done  16 tasks      | elapsed:    3.2s\n",
      "[Parallel(n_jobs=-1)]: Done  25 tasks      | elapsed:    3.6s\n",
      "[Parallel(n_jobs=-1)]: Done  34 tasks      | elapsed:    3.9s\n",
      "[Parallel(n_jobs=-1)]: Done  45 tasks      | elapsed:    4.2s\n",
      "[Parallel(n_jobs=-1)]: Done  56 tasks      | elapsed:    4.5s\n",
      "[Parallel(n_jobs=-1)]: Done  69 tasks      | elapsed:    5.1s\n",
      "[Parallel(n_jobs=-1)]: Done  82 tasks      | elapsed:    5.5s\n",
      "[Parallel(n_jobs=-1)]: Done  97 tasks      | elapsed:    6.0s\n",
      "[Parallel(n_jobs=-1)]: Done 112 tasks      | elapsed:    6.7s\n",
      "[Parallel(n_jobs=-1)]: Done 129 tasks      | elapsed:    7.5s\n",
      "[Parallel(n_jobs=-1)]: Done 146 tasks      | elapsed:    8.1s\n",
      "[Parallel(n_jobs=-1)]: Done 165 tasks      | elapsed:    9.3s\n",
      "[Parallel(n_jobs=-1)]: Done 184 tasks      | elapsed:    9.9s\n",
      "[Parallel(n_jobs=-1)]: Done 205 tasks      | elapsed:   11.5s\n",
      "[Parallel(n_jobs=-1)]: Done 226 tasks      | elapsed:   12.8s\n",
      "[Parallel(n_jobs=-1)]: Done 249 tasks      | elapsed:   14.0s\n",
      "[Parallel(n_jobs=-1)]: Done 272 tasks      | elapsed:   15.0s\n",
      "[Parallel(n_jobs=-1)]: Done 297 tasks      | elapsed:   16.3s\n",
      "[Parallel(n_jobs=-1)]: Done 322 tasks      | elapsed:   17.4s\n",
      "[Parallel(n_jobs=-1)]: Done 349 tasks      | elapsed:   18.5s\n",
      "[Parallel(n_jobs=-1)]: Done 376 tasks      | elapsed:   19.7s\n",
      "[Parallel(n_jobs=-1)]: Done 405 tasks      | elapsed:   20.9s\n",
      "[Parallel(n_jobs=-1)]: Done 434 tasks      | elapsed:   22.2s\n",
      "[Parallel(n_jobs=-1)]: Done 465 tasks      | elapsed:   24.1s\n",
      "[Parallel(n_jobs=-1)]: Done 496 tasks      | elapsed:   26.6s\n",
      "[Parallel(n_jobs=-1)]: Done 529 tasks      | elapsed:   29.0s\n",
      "[Parallel(n_jobs=-1)]: Done 562 tasks      | elapsed:   30.5s\n",
      "[Parallel(n_jobs=-1)]: Done 597 tasks      | elapsed:   31.8s\n",
      "[Parallel(n_jobs=-1)]: Done 632 tasks      | elapsed:   33.4s\n",
      "[Parallel(n_jobs=-1)]: Done 669 tasks      | elapsed:   35.1s\n",
      "[Parallel(n_jobs=-1)]: Done 706 tasks      | elapsed:   36.7s\n",
      "[Parallel(n_jobs=-1)]: Done 745 tasks      | elapsed:   38.2s\n",
      "[Parallel(n_jobs=-1)]: Done 784 tasks      | elapsed:   39.8s\n",
      "[Parallel(n_jobs=-1)]: Done 825 tasks      | elapsed:   41.6s\n",
      "[Parallel(n_jobs=-1)]: Done 866 tasks      | elapsed:   43.1s\n",
      "[Parallel(n_jobs=-1)]: Done 909 tasks      | elapsed:   45.1s\n",
      "[Parallel(n_jobs=-1)]: Done 952 tasks      | elapsed:   47.1s\n",
      "[Parallel(n_jobs=-1)]: Done 997 tasks      | elapsed:   49.0s\n",
      "[Parallel(n_jobs=-1)]: Done 1042 tasks      | elapsed:   50.9s\n",
      "[Parallel(n_jobs=-1)]: Done 1089 tasks      | elapsed:   53.2s\n",
      "[Parallel(n_jobs=-1)]: Done 1136 tasks      | elapsed:   55.1s\n",
      "[Parallel(n_jobs=-1)]: Done 1185 tasks      | elapsed:   57.5s\n",
      "[Parallel(n_jobs=-1)]: Done 1234 tasks      | elapsed:   59.4s\n",
      "[Parallel(n_jobs=-1)]: Done 1285 tasks      | elapsed:  1.0min\n",
      "[Parallel(n_jobs=-1)]: Done 1336 tasks      | elapsed:  1.1min\n",
      "[Parallel(n_jobs=-1)]: Done 1389 tasks      | elapsed:  1.1min\n",
      "[Parallel(n_jobs=-1)]: Done 1442 tasks      | elapsed:  1.1min\n",
      "[Parallel(n_jobs=-1)]: Done 1497 tasks      | elapsed:  1.2min\n",
      "[Parallel(n_jobs=-1)]: Done 1552 tasks      | elapsed:  1.2min\n"
     ]
    },
    {
     "ename": "KeyboardInterrupt",
     "evalue": "",
     "output_type": "error",
     "traceback": [
      "\u001b[0;31m---------------------------------------------------------------------------\u001b[0m",
      "\u001b[0;31mKeyboardInterrupt\u001b[0m                         Traceback (most recent call last)",
      "\u001b[0;32m<ipython-input-1612-d5317cf35ba4>\u001b[0m in \u001b[0;36m<module>\u001b[0;34m\u001b[0m\n\u001b[1;32m     36\u001b[0m \u001b[0mgs\u001b[0m \u001b[0;34m=\u001b[0m \u001b[0mGridSearchCV\u001b[0m\u001b[0;34m(\u001b[0m\u001b[0mmodel\u001b[0m\u001b[0;34m,\u001b[0m \u001b[0mparameters\u001b[0m\u001b[0;34m,\u001b[0m \u001b[0mscoring\u001b[0m\u001b[0;34m=\u001b[0m\u001b[0;34m'recall'\u001b[0m\u001b[0;34m,\u001b[0m \u001b[0mcv\u001b[0m\u001b[0;34m=\u001b[0m\u001b[0;36m5\u001b[0m\u001b[0;34m,\u001b[0m \u001b[0mn_jobs\u001b[0m\u001b[0;34m=\u001b[0m\u001b[0;34m-\u001b[0m\u001b[0;36m1\u001b[0m\u001b[0;34m,\u001b[0m \u001b[0mverbose\u001b[0m\u001b[0;34m=\u001b[0m\u001b[0;36m10\u001b[0m\u001b[0;34m)\u001b[0m\u001b[0;34m\u001b[0m\u001b[0;34m\u001b[0m\u001b[0m\n\u001b[1;32m     37\u001b[0m \u001b[0;34m\u001b[0m\u001b[0m\n\u001b[0;32m---> 38\u001b[0;31m \u001b[0mgs\u001b[0m\u001b[0;34m.\u001b[0m\u001b[0mfit\u001b[0m\u001b[0;34m(\u001b[0m\u001b[0mX_train_prep\u001b[0m\u001b[0;34m,\u001b[0m \u001b[0my_train_s\u001b[0m\u001b[0;34m)\u001b[0m\u001b[0;34m\u001b[0m\u001b[0;34m\u001b[0m\u001b[0m\n\u001b[0m\u001b[1;32m     39\u001b[0m \u001b[0my_pred\u001b[0m\u001b[0;34m=\u001b[0m \u001b[0mgs\u001b[0m\u001b[0;34m.\u001b[0m\u001b[0mpredict\u001b[0m\u001b[0;34m(\u001b[0m\u001b[0mX_test_prep\u001b[0m\u001b[0;34m)\u001b[0m\u001b[0;34m\u001b[0m\u001b[0;34m\u001b[0m\u001b[0m\n\u001b[1;32m     40\u001b[0m \u001b[0mprint\u001b[0m\u001b[0;34m(\u001b[0m\u001b[0mclassification_report\u001b[0m\u001b[0;34m(\u001b[0m\u001b[0my_test\u001b[0m\u001b[0;34m,\u001b[0m\u001b[0my_pred\u001b[0m\u001b[0;34m)\u001b[0m\u001b[0;34m)\u001b[0m\u001b[0;34m\u001b[0m\u001b[0;34m\u001b[0m\u001b[0m\n",
      "\u001b[0;32m/opt/anaconda3/lib/python3.7/site-packages/sklearn/model_selection/_search.py\u001b[0m in \u001b[0;36mfit\u001b[0;34m(self, X, y, groups, **fit_params)\u001b[0m\n\u001b[1;32m    708\u001b[0m                 \u001b[0;32mreturn\u001b[0m \u001b[0mresults\u001b[0m\u001b[0;34m\u001b[0m\u001b[0;34m\u001b[0m\u001b[0m\n\u001b[1;32m    709\u001b[0m \u001b[0;34m\u001b[0m\u001b[0m\n\u001b[0;32m--> 710\u001b[0;31m             \u001b[0mself\u001b[0m\u001b[0;34m.\u001b[0m\u001b[0m_run_search\u001b[0m\u001b[0;34m(\u001b[0m\u001b[0mevaluate_candidates\u001b[0m\u001b[0;34m)\u001b[0m\u001b[0;34m\u001b[0m\u001b[0;34m\u001b[0m\u001b[0m\n\u001b[0m\u001b[1;32m    711\u001b[0m \u001b[0;34m\u001b[0m\u001b[0m\n\u001b[1;32m    712\u001b[0m         \u001b[0;31m# For multi-metric evaluation, store the best_index_, best_params_ and\u001b[0m\u001b[0;34m\u001b[0m\u001b[0;34m\u001b[0m\u001b[0;34m\u001b[0m\u001b[0m\n",
      "\u001b[0;32m/opt/anaconda3/lib/python3.7/site-packages/sklearn/model_selection/_search.py\u001b[0m in \u001b[0;36m_run_search\u001b[0;34m(self, evaluate_candidates)\u001b[0m\n\u001b[1;32m   1149\u001b[0m     \u001b[0;32mdef\u001b[0m \u001b[0m_run_search\u001b[0m\u001b[0;34m(\u001b[0m\u001b[0mself\u001b[0m\u001b[0;34m,\u001b[0m \u001b[0mevaluate_candidates\u001b[0m\u001b[0;34m)\u001b[0m\u001b[0;34m:\u001b[0m\u001b[0;34m\u001b[0m\u001b[0;34m\u001b[0m\u001b[0m\n\u001b[1;32m   1150\u001b[0m         \u001b[0;34m\"\"\"Search all candidates in param_grid\"\"\"\u001b[0m\u001b[0;34m\u001b[0m\u001b[0;34m\u001b[0m\u001b[0m\n\u001b[0;32m-> 1151\u001b[0;31m         \u001b[0mevaluate_candidates\u001b[0m\u001b[0;34m(\u001b[0m\u001b[0mParameterGrid\u001b[0m\u001b[0;34m(\u001b[0m\u001b[0mself\u001b[0m\u001b[0;34m.\u001b[0m\u001b[0mparam_grid\u001b[0m\u001b[0;34m)\u001b[0m\u001b[0;34m)\u001b[0m\u001b[0;34m\u001b[0m\u001b[0;34m\u001b[0m\u001b[0m\n\u001b[0m\u001b[1;32m   1152\u001b[0m \u001b[0;34m\u001b[0m\u001b[0m\n\u001b[1;32m   1153\u001b[0m \u001b[0;34m\u001b[0m\u001b[0m\n",
      "\u001b[0;32m/opt/anaconda3/lib/python3.7/site-packages/sklearn/model_selection/_search.py\u001b[0m in \u001b[0;36mevaluate_candidates\u001b[0;34m(candidate_params)\u001b[0m\n\u001b[1;32m    687\u001b[0m                                \u001b[0;32mfor\u001b[0m \u001b[0mparameters\u001b[0m\u001b[0;34m,\u001b[0m \u001b[0;34m(\u001b[0m\u001b[0mtrain\u001b[0m\u001b[0;34m,\u001b[0m \u001b[0mtest\u001b[0m\u001b[0;34m)\u001b[0m\u001b[0;34m\u001b[0m\u001b[0;34m\u001b[0m\u001b[0m\n\u001b[1;32m    688\u001b[0m                                in product(candidate_params,\n\u001b[0;32m--> 689\u001b[0;31m                                           cv.split(X, y, groups)))\n\u001b[0m\u001b[1;32m    690\u001b[0m \u001b[0;34m\u001b[0m\u001b[0m\n\u001b[1;32m    691\u001b[0m                 \u001b[0;32mif\u001b[0m \u001b[0mlen\u001b[0m\u001b[0;34m(\u001b[0m\u001b[0mout\u001b[0m\u001b[0;34m)\u001b[0m \u001b[0;34m<\u001b[0m \u001b[0;36m1\u001b[0m\u001b[0;34m:\u001b[0m\u001b[0;34m\u001b[0m\u001b[0;34m\u001b[0m\u001b[0m\n",
      "\u001b[0;32m/opt/anaconda3/lib/python3.7/site-packages/joblib/parallel.py\u001b[0m in \u001b[0;36m__call__\u001b[0;34m(self, iterable)\u001b[0m\n\u001b[1;32m   1040\u001b[0m \u001b[0;34m\u001b[0m\u001b[0m\n\u001b[1;32m   1041\u001b[0m             \u001b[0;32mwith\u001b[0m \u001b[0mself\u001b[0m\u001b[0;34m.\u001b[0m\u001b[0m_backend\u001b[0m\u001b[0;34m.\u001b[0m\u001b[0mretrieval_context\u001b[0m\u001b[0;34m(\u001b[0m\u001b[0;34m)\u001b[0m\u001b[0;34m:\u001b[0m\u001b[0;34m\u001b[0m\u001b[0;34m\u001b[0m\u001b[0m\n\u001b[0;32m-> 1042\u001b[0;31m                 \u001b[0mself\u001b[0m\u001b[0;34m.\u001b[0m\u001b[0mretrieve\u001b[0m\u001b[0;34m(\u001b[0m\u001b[0;34m)\u001b[0m\u001b[0;34m\u001b[0m\u001b[0;34m\u001b[0m\u001b[0m\n\u001b[0m\u001b[1;32m   1043\u001b[0m             \u001b[0;31m# Make sure that we get a last message telling us we are done\u001b[0m\u001b[0;34m\u001b[0m\u001b[0;34m\u001b[0m\u001b[0;34m\u001b[0m\u001b[0m\n\u001b[1;32m   1044\u001b[0m             \u001b[0melapsed_time\u001b[0m \u001b[0;34m=\u001b[0m \u001b[0mtime\u001b[0m\u001b[0;34m.\u001b[0m\u001b[0mtime\u001b[0m\u001b[0;34m(\u001b[0m\u001b[0;34m)\u001b[0m \u001b[0;34m-\u001b[0m \u001b[0mself\u001b[0m\u001b[0;34m.\u001b[0m\u001b[0m_start_time\u001b[0m\u001b[0;34m\u001b[0m\u001b[0;34m\u001b[0m\u001b[0m\n",
      "\u001b[0;32m/opt/anaconda3/lib/python3.7/site-packages/joblib/parallel.py\u001b[0m in \u001b[0;36mretrieve\u001b[0;34m(self)\u001b[0m\n\u001b[1;32m    919\u001b[0m             \u001b[0;32mtry\u001b[0m\u001b[0;34m:\u001b[0m\u001b[0;34m\u001b[0m\u001b[0;34m\u001b[0m\u001b[0m\n\u001b[1;32m    920\u001b[0m                 \u001b[0;32mif\u001b[0m \u001b[0mgetattr\u001b[0m\u001b[0;34m(\u001b[0m\u001b[0mself\u001b[0m\u001b[0;34m.\u001b[0m\u001b[0m_backend\u001b[0m\u001b[0;34m,\u001b[0m \u001b[0;34m'supports_timeout'\u001b[0m\u001b[0;34m,\u001b[0m \u001b[0;32mFalse\u001b[0m\u001b[0;34m)\u001b[0m\u001b[0;34m:\u001b[0m\u001b[0;34m\u001b[0m\u001b[0;34m\u001b[0m\u001b[0m\n\u001b[0;32m--> 921\u001b[0;31m                     \u001b[0mself\u001b[0m\u001b[0;34m.\u001b[0m\u001b[0m_output\u001b[0m\u001b[0;34m.\u001b[0m\u001b[0mextend\u001b[0m\u001b[0;34m(\u001b[0m\u001b[0mjob\u001b[0m\u001b[0;34m.\u001b[0m\u001b[0mget\u001b[0m\u001b[0;34m(\u001b[0m\u001b[0mtimeout\u001b[0m\u001b[0;34m=\u001b[0m\u001b[0mself\u001b[0m\u001b[0;34m.\u001b[0m\u001b[0mtimeout\u001b[0m\u001b[0;34m)\u001b[0m\u001b[0;34m)\u001b[0m\u001b[0;34m\u001b[0m\u001b[0;34m\u001b[0m\u001b[0m\n\u001b[0m\u001b[1;32m    922\u001b[0m                 \u001b[0;32melse\u001b[0m\u001b[0;34m:\u001b[0m\u001b[0;34m\u001b[0m\u001b[0;34m\u001b[0m\u001b[0m\n\u001b[1;32m    923\u001b[0m                     \u001b[0mself\u001b[0m\u001b[0;34m.\u001b[0m\u001b[0m_output\u001b[0m\u001b[0;34m.\u001b[0m\u001b[0mextend\u001b[0m\u001b[0;34m(\u001b[0m\u001b[0mjob\u001b[0m\u001b[0;34m.\u001b[0m\u001b[0mget\u001b[0m\u001b[0;34m(\u001b[0m\u001b[0;34m)\u001b[0m\u001b[0;34m)\u001b[0m\u001b[0;34m\u001b[0m\u001b[0;34m\u001b[0m\u001b[0m\n",
      "\u001b[0;32m/opt/anaconda3/lib/python3.7/site-packages/joblib/_parallel_backends.py\u001b[0m in \u001b[0;36mwrap_future_result\u001b[0;34m(future, timeout)\u001b[0m\n\u001b[1;32m    538\u001b[0m         AsyncResults.get from multiprocessing.\"\"\"\n\u001b[1;32m    539\u001b[0m         \u001b[0;32mtry\u001b[0m\u001b[0;34m:\u001b[0m\u001b[0;34m\u001b[0m\u001b[0;34m\u001b[0m\u001b[0m\n\u001b[0;32m--> 540\u001b[0;31m             \u001b[0;32mreturn\u001b[0m \u001b[0mfuture\u001b[0m\u001b[0;34m.\u001b[0m\u001b[0mresult\u001b[0m\u001b[0;34m(\u001b[0m\u001b[0mtimeout\u001b[0m\u001b[0;34m=\u001b[0m\u001b[0mtimeout\u001b[0m\u001b[0;34m)\u001b[0m\u001b[0;34m\u001b[0m\u001b[0;34m\u001b[0m\u001b[0m\n\u001b[0m\u001b[1;32m    541\u001b[0m         \u001b[0;32mexcept\u001b[0m \u001b[0mCfTimeoutError\u001b[0m\u001b[0;34m:\u001b[0m\u001b[0;34m\u001b[0m\u001b[0;34m\u001b[0m\u001b[0m\n\u001b[1;32m    542\u001b[0m             \u001b[0;32mraise\u001b[0m \u001b[0mTimeoutError\u001b[0m\u001b[0;34m(\u001b[0m\u001b[0;34m)\u001b[0m\u001b[0;34m\u001b[0m\u001b[0;34m\u001b[0m\u001b[0m\n",
      "\u001b[0;32m/opt/anaconda3/lib/python3.7/concurrent/futures/_base.py\u001b[0m in \u001b[0;36mresult\u001b[0;34m(self, timeout)\u001b[0m\n\u001b[1;32m    428\u001b[0m                 \u001b[0;32mreturn\u001b[0m \u001b[0mself\u001b[0m\u001b[0;34m.\u001b[0m\u001b[0m__get_result\u001b[0m\u001b[0;34m(\u001b[0m\u001b[0;34m)\u001b[0m\u001b[0;34m\u001b[0m\u001b[0;34m\u001b[0m\u001b[0m\n\u001b[1;32m    429\u001b[0m \u001b[0;34m\u001b[0m\u001b[0m\n\u001b[0;32m--> 430\u001b[0;31m             \u001b[0mself\u001b[0m\u001b[0;34m.\u001b[0m\u001b[0m_condition\u001b[0m\u001b[0;34m.\u001b[0m\u001b[0mwait\u001b[0m\u001b[0;34m(\u001b[0m\u001b[0mtimeout\u001b[0m\u001b[0;34m)\u001b[0m\u001b[0;34m\u001b[0m\u001b[0;34m\u001b[0m\u001b[0m\n\u001b[0m\u001b[1;32m    431\u001b[0m \u001b[0;34m\u001b[0m\u001b[0m\n\u001b[1;32m    432\u001b[0m             \u001b[0;32mif\u001b[0m \u001b[0mself\u001b[0m\u001b[0;34m.\u001b[0m\u001b[0m_state\u001b[0m \u001b[0;32min\u001b[0m \u001b[0;34m[\u001b[0m\u001b[0mCANCELLED\u001b[0m\u001b[0;34m,\u001b[0m \u001b[0mCANCELLED_AND_NOTIFIED\u001b[0m\u001b[0;34m]\u001b[0m\u001b[0;34m:\u001b[0m\u001b[0;34m\u001b[0m\u001b[0;34m\u001b[0m\u001b[0m\n",
      "\u001b[0;32m/opt/anaconda3/lib/python3.7/threading.py\u001b[0m in \u001b[0;36mwait\u001b[0;34m(self, timeout)\u001b[0m\n\u001b[1;32m    294\u001b[0m         \u001b[0;32mtry\u001b[0m\u001b[0;34m:\u001b[0m    \u001b[0;31m# restore state no matter what (e.g., KeyboardInterrupt)\u001b[0m\u001b[0;34m\u001b[0m\u001b[0;34m\u001b[0m\u001b[0m\n\u001b[1;32m    295\u001b[0m             \u001b[0;32mif\u001b[0m \u001b[0mtimeout\u001b[0m \u001b[0;32mis\u001b[0m \u001b[0;32mNone\u001b[0m\u001b[0;34m:\u001b[0m\u001b[0;34m\u001b[0m\u001b[0;34m\u001b[0m\u001b[0m\n\u001b[0;32m--> 296\u001b[0;31m                 \u001b[0mwaiter\u001b[0m\u001b[0;34m.\u001b[0m\u001b[0macquire\u001b[0m\u001b[0;34m(\u001b[0m\u001b[0;34m)\u001b[0m\u001b[0;34m\u001b[0m\u001b[0;34m\u001b[0m\u001b[0m\n\u001b[0m\u001b[1;32m    297\u001b[0m                 \u001b[0mgotit\u001b[0m \u001b[0;34m=\u001b[0m \u001b[0;32mTrue\u001b[0m\u001b[0;34m\u001b[0m\u001b[0;34m\u001b[0m\u001b[0m\n\u001b[1;32m    298\u001b[0m             \u001b[0;32melse\u001b[0m\u001b[0;34m:\u001b[0m\u001b[0;34m\u001b[0m\u001b[0;34m\u001b[0m\u001b[0m\n",
      "\u001b[0;31mKeyboardInterrupt\u001b[0m: "
     ]
    }
   ],
   "source": [
    "from sklearn.model_selection import GridSearchCV\n",
    "#DF\n",
    "# parameters = {\n",
    "#     'max_depth': list(range(2,20)),\n",
    "#     'criterion': ['gini', 'entropy'],\n",
    "#     'min_samples_split': range(1, 10),\n",
    "#     'min_samples_leaf':[1,2,3,4]\n",
    "# }\n",
    "# RF\n",
    "parameters = {\n",
    "    'bootstrap':[True,False],\n",
    "    'max_depth': list(range(2,20)),\n",
    "    'criterion': ['gini', 'entropy'],\n",
    "    'min_samples_split': range(2, 10),\n",
    "    'min_samples_leaf':[1,2,3,4],\n",
    "    'class_weight':['balanced'],\n",
    "    \"max_features\":['auto', 'sqrt', 'log2']\n",
    "}\n",
    "model = RF\n",
    "\n",
    "# # GradientBoosint\n",
    "# parameters = {\n",
    "#     \"loss\":['exponential'],\n",
    "#     \"learning_rate\": [0.01, 0.05, 0.1, 0.2],\n",
    "#     \"min_samples_split\": [1,2,3],\n",
    "#     \"min_samples_leaf\": [1,2,3],\n",
    "#     \"max_depth\": list(range(3,10)),\n",
    "#     \"max_features\":['auto'],\n",
    "#     \"criterion\": ['friedman_mse', 'mse'],\n",
    "#     \"subsample\":[ 0.8, 0.9, 1.0],\n",
    "#     \"n_estimators\":[100,500,1000]\n",
    "#     }\n",
    "\n",
    "\n",
    "# model = GB\n",
    "\n",
    "gs = GridSearchCV(model, parameters, scoring='recall', cv=5, n_jobs=-1, verbose=10)\n",
    "\n",
    "gs.fit(X_train_prep, y_train_s)\n",
    "y_pred= gs.predict(X_test_prep)\n",
    "print(classification_report(y_test,y_pred))\n"
   ]
  },
  {
   "cell_type": "code",
   "execution_count": 1558,
   "metadata": {
    "scrolled": true
   },
   "outputs": [],
   "source": []
  },
  {
   "cell_type": "code",
   "execution_count": 1613,
   "metadata": {},
   "outputs": [
    {
     "ename": "AttributeError",
     "evalue": "'GridSearchCV' object has no attribute 'best_estimator_'",
     "output_type": "error",
     "traceback": [
      "\u001b[0;31m---------------------------------------------------------------------------\u001b[0m",
      "\u001b[0;31mAttributeError\u001b[0m                            Traceback (most recent call last)",
      "\u001b[0;32m<ipython-input-1613-50a4819aa4ed>\u001b[0m in \u001b[0;36m<module>\u001b[0;34m\u001b[0m\n\u001b[0;32m----> 1\u001b[0;31m \u001b[0mgs\u001b[0m\u001b[0;34m.\u001b[0m\u001b[0mbest_estimator_\u001b[0m\u001b[0;34m\u001b[0m\u001b[0;34m\u001b[0m\u001b[0m\n\u001b[0m",
      "\u001b[0;31mAttributeError\u001b[0m: 'GridSearchCV' object has no attribute 'best_estimator_'"
     ]
    }
   ],
   "source": [
    "gs.best_estimator_"
   ]
  },
  {
   "cell_type": "code",
   "execution_count": 1609,
   "metadata": {},
   "outputs": [
    {
     "data": {
      "image/png": "[encoded data removed]",
      "text/plain": [
       "<Figure size 432x288 with 2 Axes>"
      ]
     },
     "metadata": {},
     "output_type": "display_data"
    }
   ],
   "source": [
    "skplt.metrics.plot_confusion_matrix(y_test, y_pred, title='Confusion matrix', labels=list(y_test.unique()),cmap='Greens')\n",
    "plt.show()"
   ]
  },
  {
   "cell_type": "code",
   "execution_count": 692,
   "metadata": {},
   "outputs": [
    {
     "data": {
      "text/plain": [
       "RandomForestClassifier(bootstrap=True, ccp_alpha=0.0, class_weight=None,\n",
       "                       criterion='gini', max_depth=18, max_features='auto',\n",
       "                       max_leaf_nodes=None, max_samples=None,\n",
       "                       min_impurity_decrease=0.0, min_impurity_split=None,\n",
       "                       min_samples_leaf=1, min_samples_split=2,\n",
       "                       min_weight_fraction_leaf=0.0, n_estimators=100,\n",
       "                       n_jobs=None, oob_score=False, random_state=None,\n",
       "                       verbose=0, warm_start=False)"
      ]
     },
     "execution_count": 692,
     "metadata": {},
     "output_type": "execute_result"
    }
   ],
   "source": [
    "gs.best_estimator_"
   ]
  },
  {
   "cell_type": "markdown",
   "metadata": {},
   "source": [
    "# FINALE\n"
   ]
  },
  {
   "cell_type": "code",
   "execution_count": 1599,
   "metadata": {},
   "outputs": [],
   "source": [
    "X = df.drop(columns=['status','avgsal','loanpmt','aplicant_age','gender'])\n",
    "y = df['status']\n",
    "X_train, X_test, y_train, y_test = train_test_split(X, y, test_size=0.2, random_state=42, stratify=y)\n",
    "X_train_s, y_train_s = sampler(imputator(X_train), y_train)\n",
    "X_test_imputed = imputator(X_test)"
   ]
  },
  {
   "cell_type": "code",
   "execution_count": 1600,
   "metadata": {},
   "outputs": [],
   "source": [
    "numpipe = Pipeline([\n",
    "    ('scaler', MinMaxScaler())\n",
    "])\n",
    "numcols = X_train_s.drop(columns=['dur','agebracket']).columns.to_list()\n",
    "catcols = ['dur','agebracket']\n",
    "pipeline = ColumnTransformer([\n",
    "        ('num',numpipe, numcols),\n",
    "        ('cat',OneHotEncoder(), catcols)\n",
    "])\n",
    "X_train_prep = pipeline.fit_transform(X_train_s)\n",
    "X_test_prep = pipeline.fit_transform(X_test_imputed)"
   ]
  },
  {
   "cell_type": "code",
   "execution_count": 1601,
   "metadata": {},
   "outputs": [
    {
     "data": {
      "text/plain": [
       "0.8905109489051095"
      ]
     },
     "execution_count": 1601,
     "metadata": {},
     "output_type": "execute_result"
    }
   ],
   "source": [
    "model = gs.best_estimator_\n",
    "model.fit(X_train_prep,y_train_s)\n",
    "y_pred= model.predict(X_test_prep)\n",
    "accuracy_score(y_test, y_pred)"
   ]
  },
  {
   "cell_type": "code",
   "execution_count": 1602,
   "metadata": {},
   "outputs": [
    {
     "name": "stdout",
     "output_type": "stream",
     "text": [
      "              precision    recall  f1-score   support\n",
      "\n",
      "           0       0.97      0.90      0.94       122\n",
      "           1       0.50      0.80      0.62        15\n",
      "\n",
      "    accuracy                           0.89       137\n",
      "   macro avg       0.74      0.85      0.78       137\n",
      "weighted avg       0.92      0.89      0.90       137\n",
      "\n"
     ]
    }
   ],
   "source": [
    "print(classification_report(y_test,y_pred))"
   ]
  },
  {
   "cell_type": "code",
   "execution_count": 1603,
   "metadata": {},
   "outputs": [
    {
     "data": {
      "text/plain": [
       "<matplotlib.axes._subplots.AxesSubplot at 0x1a4b1c9f90>"
      ]
     },
     "execution_count": 1603,
     "metadata": {},
     "output_type": "execute_result"
    },
    {
     "data": {
      "image/png": "[encoded data removed]",
      "text/plain": [
       "<Figure size 432x288 with 1 Axes>"
      ]
     },
     "metadata": {},
     "output_type": "display_data"
    }
   ],
   "source": [
    "feature_importance()"
   ]
  },
  {
   "cell_type": "code",
   "execution_count": null,
   "metadata": {},
   "outputs": [],
   "source": []
  }
 ],
 "metadata": {
  "kernelspec": {
   "display_name": "Python 3",
   "language": "python",
   "name": "python3"
  },
  "language_info": {
   "codemirror_mode": {
    "name": "ipython",
    "version": 3
   },
   "file_extension": ".py",
   "mimetype": "text/x-python",
   "name": "python",
   "nbconvert_exporter": "python",
   "pygments_lexer": "ipython3",
   "version": "3.7.7"
  }
 },
 "nbformat": 4,
 "nbformat_minor": 4
}
